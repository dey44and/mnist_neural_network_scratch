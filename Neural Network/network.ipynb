{
 "metadata": {
  "kernelspec": {
   "language": "python",
   "display_name": "Python 3",
   "name": "python3"
  },
  "language_info": {
   "name": "python",
   "version": "3.10.12",
   "mimetype": "text/x-python",
   "codemirror_mode": {
    "name": "ipython",
    "version": 3
   },
   "pygments_lexer": "ipython3",
   "nbconvert_exporter": "python",
   "file_extension": ".py"
  },
  "kaggle": {
   "accelerator": "none",
   "dataSources": [
    {
     "sourceId": 34877,
     "sourceType": "datasetVersion",
     "datasetId": 27352
    }
   ],
   "dockerImageVersionId": 30626,
   "isInternetEnabled": false,
   "language": "python",
   "sourceType": "notebook",
   "isGpuEnabled": false
  }
 },
 "nbformat_minor": 4,
 "nbformat": 4,
 "cells": [
  {
   "cell_type": "markdown",
   "source": [
    "# **Neural Network from Stratch**"
   ],
   "metadata": {}
  },
  {
   "cell_type": "markdown",
   "source": [
    "#### Import and read of dataset."
   ],
   "metadata": {}
  },
  {
   "cell_type": "code",
   "source": [
    "import numpy as np\n",
    "import pandas as pd\n",
    "import matplotlib.pyplot as plt\n",
    "\n",
    "data = pd.read_csv(\"mnist_train.csv\")\n",
    "data.head()"
   ],
   "metadata": {
    "_uuid": "8f2839f25d086af736a60e9eeb907d3b93b6e0e5",
    "_cell_guid": "b1076dfc-b9ad-4769-8c92-a6c4dae69d19",
    "execution": {
     "iopub.status.busy": "2023-12-24T11:17:12.880279Z",
     "iopub.execute_input": "2023-12-24T11:17:12.880644Z",
     "iopub.status.idle": "2023-12-24T11:17:16.544892Z",
     "shell.execute_reply.started": "2023-12-24T11:17:12.880614Z",
     "shell.execute_reply": "2023-12-24T11:17:16.543796Z"
    },
    "trusted": true,
    "ExecuteTime": {
     "end_time": "2023-12-25T00:34:10.005658900Z",
     "start_time": "2023-12-25T00:34:07.657695800Z"
    }
   },
   "execution_count": 1,
   "outputs": [
    {
     "data": {
      "text/plain": "   label  1x1  1x2  1x3  1x4  1x5  1x6  1x7  1x8  1x9  ...  28x19  28x20  \\\n0      5    0    0    0    0    0    0    0    0    0  ...      0      0   \n1      0    0    0    0    0    0    0    0    0    0  ...      0      0   \n2      4    0    0    0    0    0    0    0    0    0  ...      0      0   \n3      1    0    0    0    0    0    0    0    0    0  ...      0      0   \n4      9    0    0    0    0    0    0    0    0    0  ...      0      0   \n\n   28x21  28x22  28x23  28x24  28x25  28x26  28x27  28x28  \n0      0      0      0      0      0      0      0      0  \n1      0      0      0      0      0      0      0      0  \n2      0      0      0      0      0      0      0      0  \n3      0      0      0      0      0      0      0      0  \n4      0      0      0      0      0      0      0      0  \n\n[5 rows x 785 columns]",
      "text/html": "<div>\n<style scoped>\n    .dataframe tbody tr th:only-of-type {\n        vertical-align: middle;\n    }\n\n    .dataframe tbody tr th {\n        vertical-align: top;\n    }\n\n    .dataframe thead th {\n        text-align: right;\n    }\n</style>\n<table border=\"1\" class=\"dataframe\">\n  <thead>\n    <tr style=\"text-align: right;\">\n      <th></th>\n      <th>label</th>\n      <th>1x1</th>\n      <th>1x2</th>\n      <th>1x3</th>\n      <th>1x4</th>\n      <th>1x5</th>\n      <th>1x6</th>\n      <th>1x7</th>\n      <th>1x8</th>\n      <th>1x9</th>\n      <th>...</th>\n      <th>28x19</th>\n      <th>28x20</th>\n      <th>28x21</th>\n      <th>28x22</th>\n      <th>28x23</th>\n      <th>28x24</th>\n      <th>28x25</th>\n      <th>28x26</th>\n      <th>28x27</th>\n      <th>28x28</th>\n    </tr>\n  </thead>\n  <tbody>\n    <tr>\n      <th>0</th>\n      <td>5</td>\n      <td>0</td>\n      <td>0</td>\n      <td>0</td>\n      <td>0</td>\n      <td>0</td>\n      <td>0</td>\n      <td>0</td>\n      <td>0</td>\n      <td>0</td>\n      <td>...</td>\n      <td>0</td>\n      <td>0</td>\n      <td>0</td>\n      <td>0</td>\n      <td>0</td>\n      <td>0</td>\n      <td>0</td>\n      <td>0</td>\n      <td>0</td>\n      <td>0</td>\n    </tr>\n    <tr>\n      <th>1</th>\n      <td>0</td>\n      <td>0</td>\n      <td>0</td>\n      <td>0</td>\n      <td>0</td>\n      <td>0</td>\n      <td>0</td>\n      <td>0</td>\n      <td>0</td>\n      <td>0</td>\n      <td>...</td>\n      <td>0</td>\n      <td>0</td>\n      <td>0</td>\n      <td>0</td>\n      <td>0</td>\n      <td>0</td>\n      <td>0</td>\n      <td>0</td>\n      <td>0</td>\n      <td>0</td>\n    </tr>\n    <tr>\n      <th>2</th>\n      <td>4</td>\n      <td>0</td>\n      <td>0</td>\n      <td>0</td>\n      <td>0</td>\n      <td>0</td>\n      <td>0</td>\n      <td>0</td>\n      <td>0</td>\n      <td>0</td>\n      <td>...</td>\n      <td>0</td>\n      <td>0</td>\n      <td>0</td>\n      <td>0</td>\n      <td>0</td>\n      <td>0</td>\n      <td>0</td>\n      <td>0</td>\n      <td>0</td>\n      <td>0</td>\n    </tr>\n    <tr>\n      <th>3</th>\n      <td>1</td>\n      <td>0</td>\n      <td>0</td>\n      <td>0</td>\n      <td>0</td>\n      <td>0</td>\n      <td>0</td>\n      <td>0</td>\n      <td>0</td>\n      <td>0</td>\n      <td>...</td>\n      <td>0</td>\n      <td>0</td>\n      <td>0</td>\n      <td>0</td>\n      <td>0</td>\n      <td>0</td>\n      <td>0</td>\n      <td>0</td>\n      <td>0</td>\n      <td>0</td>\n    </tr>\n    <tr>\n      <th>4</th>\n      <td>9</td>\n      <td>0</td>\n      <td>0</td>\n      <td>0</td>\n      <td>0</td>\n      <td>0</td>\n      <td>0</td>\n      <td>0</td>\n      <td>0</td>\n      <td>0</td>\n      <td>...</td>\n      <td>0</td>\n      <td>0</td>\n      <td>0</td>\n      <td>0</td>\n      <td>0</td>\n      <td>0</td>\n      <td>0</td>\n      <td>0</td>\n      <td>0</td>\n      <td>0</td>\n    </tr>\n  </tbody>\n</table>\n<p>5 rows × 785 columns</p>\n</div>"
     },
     "execution_count": 1,
     "metadata": {},
     "output_type": "execute_result"
    }
   ]
  },
  {
   "cell_type": "markdown",
   "source": [
    "#### Convert data to numpy arrays."
   ],
   "metadata": {}
  },
  {
   "cell_type": "code",
   "source": [
    "data = np.array(data)\n",
    "m, n = data.shape \n",
    "np.random.shuffle(data)"
   ],
   "metadata": {
    "execution": {
     "iopub.status.busy": "2023-12-24T11:17:16.546949Z",
     "iopub.execute_input": "2023-12-24T11:17:16.547565Z",
     "iopub.status.idle": "2023-12-24T11:17:17.509461Z",
     "shell.execute_reply.started": "2023-12-24T11:17:16.547527Z",
     "shell.execute_reply": "2023-12-24T11:17:17.508274Z"
    },
    "trusted": true,
    "ExecuteTime": {
     "end_time": "2023-12-25T00:34:11.180000100Z",
     "start_time": "2023-12-25T00:34:10.007657700Z"
    }
   },
   "execution_count": 2,
   "outputs": []
  },
  {
   "cell_type": "markdown",
   "source": [
    "#### Split data for train and cross validation."
   ],
   "metadata": {}
  },
  {
   "cell_type": "code",
   "source": [
    "# Get cross-validation data\n",
    "data_dev = data[0:1000].T\n",
    "Y_dev = data_dev[0]\n",
    "X_dev = data_dev[1:n]\n",
    "X_dev = (X_dev - np.mean(X_dev)) / np.std(X_dev)\n",
    "\n",
    "# Get training data\n",
    "data_train = data[1000:m].T\n",
    "Y_train = data_train[0]\n",
    "X_train = data_train[1:n]\n",
    "X_train = (X_train - np.mean(X_train)) / np.std(X_train)\n",
    "\n",
    "# Split data in batches\n",
    "def split_data_batch(X, Y, batch_size):  \n",
    "    num_columns_per_split = batch_size\n",
    "    num_columns = X.shape[1]\n",
    "    \n",
    "    X_train_batches = []\n",
    "    Y_train_batches = []\n",
    "    # Iterate through the columns and split the matrix into smaller matrices\n",
    "    for i in range(0, num_columns, num_columns_per_split):\n",
    "        X_split_matrix = X[:, i:i+num_columns_per_split]\n",
    "        Y_split_matrix = Y[i:i+num_columns_per_split]\n",
    "        X_train_batches.append(X_split_matrix)\n",
    "        Y_train_batches.append(Y_split_matrix)        \n",
    "    return X_train_batches, Y_train_batches\n",
    "\n",
    "X_train_batches, Y_train_batches = split_data_batch(X_train, Y_train, batch_size=1000)"
   ],
   "metadata": {
    "execution": {
     "iopub.status.busy": "2023-12-24T11:17:17.511042Z",
     "iopub.execute_input": "2023-12-24T11:17:17.511474Z",
     "iopub.status.idle": "2023-12-24T11:17:18.125737Z",
     "shell.execute_reply.started": "2023-12-24T11:17:17.511442Z",
     "shell.execute_reply": "2023-12-24T11:17:18.124560Z"
    },
    "trusted": true,
    "ExecuteTime": {
     "end_time": "2023-12-25T00:34:11.659623600Z",
     "start_time": "2023-12-25T00:34:11.179008500Z"
    }
   },
   "execution_count": 3,
   "outputs": []
  },
  {
   "cell_type": "markdown",
   "source": [
    "#### Methods to config the network."
   ],
   "metadata": {}
  },
  {
   "cell_type": "code",
   "source": [
    "def init_params(hidden_layer_size, input_size, class_num):\n",
    "    W1 = 0.2 * np.random.rand(hidden_layer_size, input_size) - 0.1\n",
    "    b1 = 0.2 * np.random.rand(hidden_layer_size, 1) - 0.1\n",
    "    W2 = 0.2 * np.random.rand(class_num, hidden_layer_size) - 0.1\n",
    "    b2 = 0.2 * np.random.rand(class_num, 1) - 0.1\n",
    "    return W1, b1, W2, b2 \n",
    "\n",
    "def ReLU(Z):\n",
    "    return np.maximum(Z, 0)\n",
    "\n",
    "def ReLU_derivative(Z):\n",
    "    return Z > 0\n",
    "\n",
    "def softmax(Z):\n",
    "    Z -= np.max(Z, axis=0)  # Subtract max value for numerical stability\n",
    "    A = np.exp(Z) / np.sum(np.exp(Z), axis=0)\n",
    "    return A\n",
    "\n",
    "def forward_prop(W1, b1, W2, b2, X):\n",
    "    # Hidden layer\n",
    "    Z1 = W1.dot(X) + b1\n",
    "    A1 = ReLU(Z1)\n",
    "    # Output layer\n",
    "    Z2 = W2.dot(A1) + b2\n",
    "    A2 = softmax(Z2)\n",
    "    return Z1, A1, Z2, A2\n",
    "\n",
    "def one_hot(Y):\n",
    "    one_hot_Y = np.zeros((Y.size, Y.max() + 1))\n",
    "    one_hot_Y[np.arange(Y.size), Y] = 1\n",
    "    one_hot_Y = one_hot_Y.T\n",
    "    return one_hot_Y\n",
    "  \n",
    "def back_prop(Z1, A1, Z2, A2, W2, X, Y):\n",
    "    one_hot_Y = one_hot(Y)\n",
    "    \n",
    "    # Derivative of W2 and b2\n",
    "    dA2 = A2 - one_hot_Y\n",
    "    \n",
    "    dW2 = 1 / m * dA2.dot(A1.T)\n",
    "    db2 = 1 / m * np.sum(dA2)\n",
    "    \n",
    "    # Derivative of W1 and b1\n",
    "    dZ1 = W2.T.dot(dA2) * ReLU_derivative(Z1)\n",
    "    \n",
    "    dW1 = 1 / m * dZ1.dot(X.T)\n",
    "    db1 = 1 / m * np.sum(dZ1)\n",
    "    \n",
    "    return dW1, db1, dW2, db2\n",
    "\n",
    "def update_params(W1, b1, W2, b2, dW1, db1, dW2, db2, alpha):\n",
    "    W1 = W1 - alpha * dW1\n",
    "    b1 = b1 - alpha * db1\n",
    "    W2 = W2 - alpha * dW2\n",
    "    b2 = b2 - alpha * db2\n",
    "    return W1, b1, W2, b2"
   ],
   "metadata": {
    "execution": {
     "iopub.status.busy": "2023-12-24T11:17:18.128002Z",
     "iopub.execute_input": "2023-12-24T11:17:18.128567Z",
     "iopub.status.idle": "2023-12-24T11:17:18.141523Z",
     "shell.execute_reply.started": "2023-12-24T11:17:18.128532Z",
     "shell.execute_reply": "2023-12-24T11:17:18.140089Z"
    },
    "trusted": true,
    "ExecuteTime": {
     "end_time": "2023-12-25T00:34:11.676794800Z",
     "start_time": "2023-12-25T00:34:11.665740Z"
    }
   },
   "execution_count": 4,
   "outputs": []
  },
  {
   "cell_type": "markdown",
   "source": [
    "#### Gradient descent algorithm implementation."
   ],
   "metadata": {}
  },
  {
   "cell_type": "code",
   "source": [
    "def get_predictions(A2):\n",
    "    return np.argmax(A2, 0)\n",
    "\n",
    "def get_accuracy(predictions, Y, print_status = True):\n",
    "    if print_status:\n",
    "        print(predictions, Y)\n",
    "    return np.sum(predictions == Y) / Y.size\n",
    "\n",
    "def gradient_descent(X, Y, hidden_layer_size, class_num, iterations, alpha):\n",
    "    n, _ = X.shape\n",
    "    W1, b1, W2, b2 = init_params(hidden_layer_size, n, class_num)\n",
    "    for i in range(iterations + 1):\n",
    "        # for X_batch, Y_batch in zip(X_train_batches, Y_train_batches):\n",
    "        #     Z1, A1, Z2, A2 = forward_prop(W1, b1, W2, b2, X_batch)\n",
    "        #     dW1, db1, dW2, db2 = back_prop(Z1, A1, Z2, A2, W2, X_batch, Y_batch)\n",
    "        #     W1, b1, W2, b2 = update_params(W1, b1, W2, b2, dW1, db1, dW2, db2, alpha)\n",
    "        Z1, A1, Z2, A2 = forward_prop(W1, b1, W2, b2, X)\n",
    "        dW1, db1, dW2, db2 = back_prop(Z1, A1, Z2, A2, W2, X, Y)\n",
    "        W1, b1, W2, b2 = update_params(W1, b1, W2, b2, dW1, db1, dW2, db2, alpha)\n",
    "        if i % 50 == 0:\n",
    "            _, _, _, A2 = forward_prop(W1, b1, W2, b2, X)\n",
    "            print(\"Iteration: \", i)\n",
    "            predictions = get_predictions(A2)\n",
    "            print(\"Accuracy: \", get_accuracy(predictions, Y))\n",
    "    return W1, b1, W2, b2\n",
    "        "
   ],
   "metadata": {
    "execution": {
     "iopub.status.busy": "2023-12-24T11:17:18.142920Z",
     "iopub.execute_input": "2023-12-24T11:17:18.143279Z",
     "iopub.status.idle": "2023-12-24T11:17:18.158208Z",
     "shell.execute_reply.started": "2023-12-24T11:17:18.143247Z",
     "shell.execute_reply": "2023-12-24T11:17:18.157178Z"
    },
    "trusted": true,
    "ExecuteTime": {
     "end_time": "2023-12-25T00:34:11.704979Z",
     "start_time": "2023-12-25T00:34:11.681149300Z"
    }
   },
   "execution_count": 5,
   "outputs": []
  },
  {
   "cell_type": "code",
   "source": [
    "W1, b1, W2, b2 = gradient_descent(X_train, Y_train, 16, 10, 1000, 0.1)\n",
    "W1.tofile(\"W1.dat\")\n",
    "b1.tofile(\"b1.dat\")\n",
    "W2.tofile(\"W2.dat\")\n",
    "b2.tofile(\"b2.dat\")"
   ],
   "metadata": {
    "execution": {
     "iopub.status.busy": "2023-12-24T11:17:18.159749Z",
     "iopub.execute_input": "2023-12-24T11:17:18.160359Z"
    },
    "trusted": true,
    "ExecuteTime": {
     "end_time": "2023-12-25T00:35:22.196336500Z",
     "start_time": "2023-12-25T00:34:11.691892800Z"
    }
   },
   "execution_count": 6,
   "outputs": [
    {
     "name": "stdout",
     "output_type": "stream",
     "text": [
      "Iteration:  0\n",
      "[3 3 7 ... 2 2 0] [8 9 6 ... 3 1 5]\n",
      "Accuracy:  0.14510169491525424\n",
      "Iteration:  50\n",
      "[8 9 6 ... 3 1 5] [8 9 6 ... 3 1 5]\n",
      "Accuracy:  0.8474237288135593\n",
      "Iteration:  100\n",
      "[3 9 6 ... 3 1 5] [8 9 6 ... 3 1 5]\n",
      "Accuracy:  0.8829322033898305\n",
      "Iteration:  150\n",
      "[3 9 6 ... 3 1 5] [8 9 6 ... 3 1 5]\n",
      "Accuracy:  0.8953728813559322\n",
      "Iteration:  200\n",
      "[3 9 6 ... 3 1 5] [8 9 6 ... 3 1 5]\n",
      "Accuracy:  0.9042542372881356\n",
      "Iteration:  250\n",
      "[8 9 6 ... 3 1 5] [8 9 6 ... 3 1 5]\n",
      "Accuracy:  0.9108813559322034\n",
      "Iteration:  300\n",
      "[8 9 6 ... 3 1 5] [8 9 6 ... 3 1 5]\n",
      "Accuracy:  0.9161864406779661\n",
      "Iteration:  350\n",
      "[8 9 6 ... 3 1 5] [8 9 6 ... 3 1 5]\n",
      "Accuracy:  0.9199830508474576\n",
      "Iteration:  400\n",
      "[8 9 6 ... 3 1 5] [8 9 6 ... 3 1 5]\n",
      "Accuracy:  0.9232033898305084\n",
      "Iteration:  450\n",
      "[8 9 6 ... 3 1 5] [8 9 6 ... 3 1 5]\n",
      "Accuracy:  0.9261016949152543\n",
      "Iteration:  500\n",
      "[8 9 6 ... 3 1 5] [8 9 6 ... 3 1 5]\n",
      "Accuracy:  0.9283898305084746\n",
      "Iteration:  550\n",
      "[8 9 6 ... 3 1 5] [8 9 6 ... 3 1 5]\n",
      "Accuracy:  0.930677966101695\n",
      "Iteration:  600\n",
      "[8 9 6 ... 3 1 5] [8 9 6 ... 3 1 5]\n",
      "Accuracy:  0.9326610169491525\n",
      "Iteration:  650\n",
      "[8 9 6 ... 3 1 5] [8 9 6 ... 3 1 5]\n",
      "Accuracy:  0.9346949152542373\n",
      "Iteration:  700\n",
      "[8 9 6 ... 3 1 5] [8 9 6 ... 3 1 5]\n",
      "Accuracy:  0.9358135593220339\n",
      "Iteration:  750\n",
      "[8 9 6 ... 3 1 5] [8 9 6 ... 3 1 5]\n",
      "Accuracy:  0.9372372881355933\n",
      "Iteration:  800\n",
      "[8 9 6 ... 3 1 5] [8 9 6 ... 3 1 5]\n",
      "Accuracy:  0.9384237288135593\n",
      "Iteration:  850\n",
      "[8 9 6 ... 3 1 5] [8 9 6 ... 3 1 5]\n",
      "Accuracy:  0.9396949152542373\n",
      "Iteration:  900\n",
      "[8 9 6 ... 3 1 5] [8 9 6 ... 3 1 5]\n",
      "Accuracy:  0.9410508474576271\n",
      "Iteration:  950\n",
      "[8 9 6 ... 3 1 5] [8 9 6 ... 3 1 5]\n",
      "Accuracy:  0.9422542372881356\n",
      "Iteration:  1000\n",
      "[8 9 6 ... 3 1 5] [8 9 6 ... 3 1 5]\n",
      "Accuracy:  0.9436101694915254\n"
     ]
    }
   ]
  },
  {
   "cell_type": "markdown",
   "source": [
    "#### Test now cross validation data."
   ],
   "metadata": {}
  },
  {
   "cell_type": "code",
   "source": [
    "def make_predictions(X, W1, b1, W2, b2):\n",
    "    _, _, _, A2 = forward_prop(W1, b1, W2, b2, X)\n",
    "    predictions = get_predictions(A2)\n",
    "    return predictions\n",
    "\n",
    "dev_predictions = make_predictions(X_dev, W1, b1, W2, b2)\n",
    "get_accuracy(dev_predictions, Y_dev, False)"
   ],
   "metadata": {
    "trusted": true,
    "ExecuteTime": {
     "end_time": "2023-12-25T00:35:22.229232500Z",
     "start_time": "2023-12-25T00:35:22.199491400Z"
    }
   },
   "execution_count": 7,
   "outputs": [
    {
     "data": {
      "text/plain": "0.935"
     },
     "execution_count": 7,
     "metadata": {},
     "output_type": "execute_result"
    }
   ]
  },
  {
   "cell_type": "markdown",
   "source": [
    "#### View the performance on testing data."
   ],
   "metadata": {}
  },
  {
   "cell_type": "code",
   "source": [
    "data_test = pd.read_csv(\"mnist_test.csv\")\n",
    "data_test = np.array(data_test)\n",
    "m, n = data.shape \n",
    "data_test = data_test.T\n",
    "Y_test = data_test[0]\n",
    "X_test = data_test[1:n]\n",
    "X_test = (X_test - np.mean(X_test)) / np.std(X_test)\n",
    "\n",
    "test_predictions = make_predictions(X_test, W1, b1, W2, b2)\n",
    "get_accuracy(test_predictions, Y_test, False)"
   ],
   "metadata": {
    "trusted": true,
    "ExecuteTime": {
     "end_time": "2023-12-25T00:35:22.627653Z",
     "start_time": "2023-12-25T00:35:22.215111Z"
    }
   },
   "execution_count": 8,
   "outputs": [
    {
     "data": {
      "text/plain": "0.9402"
     },
     "execution_count": 8,
     "metadata": {},
     "output_type": "execute_result"
    }
   ]
  },
  {
   "cell_type": "code",
   "execution_count": 12,
   "outputs": [
    {
     "name": "stdout",
     "output_type": "stream",
     "text": [
      "Prediction:  [1]\n",
      "Label:  1\n"
     ]
    },
    {
     "data": {
      "text/plain": "<Figure size 640x480 with 1 Axes>",
      "image/png": "[encoded data removed]"
     },
     "metadata": {},
     "output_type": "display_data"
    }
   ],
   "source": [
    "def test_prediction(index, W1, b1, W2, b2):\n",
    "    current_image = X_train[:, index, None]\n",
    "    prediction = make_predictions(X_train[:, index, None], W1, b1, W2, b2)\n",
    "    label = Y_train[index]\n",
    "    print(\"Prediction: \", prediction)\n",
    "    print(\"Label: \", label)\n",
    "    \n",
    "    current_image = current_image.reshape((28, 28)) * 255\n",
    "    plt.gray()\n",
    "    plt.imshow(current_image, interpolation='nearest')\n",
    "    plt.show()\n",
    "    \n",
    "test_prediction(290, W1, b1, W2, b2)"
   ],
   "metadata": {
    "collapsed": false,
    "ExecuteTime": {
     "end_time": "2023-12-25T00:38:17.492369Z",
     "start_time": "2023-12-25T00:38:17.404672200Z"
    }
   }
  },
  {
   "cell_type": "code",
   "execution_count": 9,
   "outputs": [],
   "source": [],
   "metadata": {
    "collapsed": false,
    "ExecuteTime": {
     "end_time": "2023-12-25T00:35:22.787238500Z",
     "start_time": "2023-12-25T00:35:22.738224700Z"
    }
   }
  }
 ]
}
